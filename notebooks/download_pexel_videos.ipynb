{
 "cells": [
  {
   "cell_type": "code",
   "execution_count": 26,
   "metadata": {},
   "outputs": [
    {
     "name": "stdout",
     "output_type": "stream",
     "text": [
      "Fetching video links from Pexels...\n",
      "Found 50 videos. Starting download...\n"
     ]
    },
    {
     "name": "stderr",
     "output_type": "stream",
     "text": [
      "Downloading Videos:   2%|▏         | 1/50 [00:01<00:53,  1.10s/it]"
     ]
    },
    {
     "name": "stdout",
     "output_type": "stream",
     "text": [
      "Downloaded: pexels_videos\\video_1.mp4\n"
     ]
    },
    {
     "name": "stderr",
     "output_type": "stream",
     "text": [
      "Downloading Videos:   4%|▍         | 2/50 [00:02<00:57,  1.19s/it]"
     ]
    },
    {
     "name": "stdout",
     "output_type": "stream",
     "text": [
      "Downloaded: pexels_videos\\video_2.mp4\n"
     ]
    },
    {
     "name": "stderr",
     "output_type": "stream",
     "text": [
      "Downloading Videos:   8%|▊         | 4/50 [00:03<00:29,  1.59it/s]"
     ]
    },
    {
     "name": "stdout",
     "output_type": "stream",
     "text": [
      "Downloaded: pexels_videos\\video_3.mp4\n",
      "Downloaded: pexels_videos\\video_4.mp4\n"
     ]
    },
    {
     "name": "stderr",
     "output_type": "stream",
     "text": [
      "Downloading Videos:  10%|█         | 5/50 [00:04<00:45,  1.00s/it]"
     ]
    },
    {
     "name": "stdout",
     "output_type": "stream",
     "text": [
      "Downloaded: pexels_videos\\video_5.mp4\n"
     ]
    },
    {
     "name": "stderr",
     "output_type": "stream",
     "text": [
      "Downloading Videos:  12%|█▏        | 6/50 [00:05<00:32,  1.34it/s]"
     ]
    },
    {
     "name": "stdout",
     "output_type": "stream",
     "text": [
      "Downloaded: pexels_videos\\video_6.mp4\n"
     ]
    },
    {
     "name": "stderr",
     "output_type": "stream",
     "text": [
      "Downloading Videos:  14%|█▍        | 7/50 [00:05<00:32,  1.33it/s]"
     ]
    },
    {
     "name": "stdout",
     "output_type": "stream",
     "text": [
      "Downloaded: pexels_videos\\video_7.mp4\n"
     ]
    },
    {
     "name": "stderr",
     "output_type": "stream",
     "text": [
      "Downloading Videos:  16%|█▌        | 8/50 [00:06<00:25,  1.67it/s]"
     ]
    },
    {
     "name": "stdout",
     "output_type": "stream",
     "text": [
      "Downloaded: pexels_videos\\video_8.mp4\n"
     ]
    },
    {
     "name": "stderr",
     "output_type": "stream",
     "text": [
      "Downloading Videos:  18%|█▊        | 9/50 [00:06<00:21,  1.92it/s]"
     ]
    },
    {
     "name": "stdout",
     "output_type": "stream",
     "text": [
      "Downloaded: pexels_videos\\video_9.mp4\n"
     ]
    },
    {
     "name": "stderr",
     "output_type": "stream",
     "text": [
      "Downloading Videos:  20%|██        | 10/50 [00:07<00:30,  1.33it/s]"
     ]
    },
    {
     "name": "stdout",
     "output_type": "stream",
     "text": [
      "Downloaded: pexels_videos\\video_10.mp4\n"
     ]
    },
    {
     "name": "stderr",
     "output_type": "stream",
     "text": [
      "Downloading Videos:  22%|██▏       | 11/50 [00:09<00:37,  1.04it/s]"
     ]
    },
    {
     "name": "stdout",
     "output_type": "stream",
     "text": [
      "Downloaded: pexels_videos\\video_11.mp4\n"
     ]
    },
    {
     "name": "stderr",
     "output_type": "stream",
     "text": [
      "Downloading Videos:  24%|██▍       | 12/50 [00:09<00:27,  1.38it/s]"
     ]
    },
    {
     "name": "stdout",
     "output_type": "stream",
     "text": [
      "Downloaded: pexels_videos\\video_12.mp4\n"
     ]
    },
    {
     "name": "stderr",
     "output_type": "stream",
     "text": [
      "Downloading Videos:  26%|██▌       | 13/50 [00:09<00:25,  1.47it/s]"
     ]
    },
    {
     "name": "stdout",
     "output_type": "stream",
     "text": [
      "Downloaded: pexels_videos\\video_13.mp4\n"
     ]
    },
    {
     "name": "stderr",
     "output_type": "stream",
     "text": [
      "Downloading Videos:  28%|██▊       | 14/50 [00:11<00:35,  1.00it/s]"
     ]
    },
    {
     "name": "stdout",
     "output_type": "stream",
     "text": [
      "Downloaded: pexels_videos\\video_14.mp4\n"
     ]
    },
    {
     "name": "stderr",
     "output_type": "stream",
     "text": [
      "Downloading Videos:  32%|███▏      | 16/50 [00:12<00:22,  1.53it/s]"
     ]
    },
    {
     "name": "stdout",
     "output_type": "stream",
     "text": [
      "Downloaded: pexels_videos\\video_15.mp4\n",
      "Downloaded: pexels_videos\\video_16.mp4\n"
     ]
    },
    {
     "name": "stderr",
     "output_type": "stream",
     "text": [
      "Downloading Videos:  36%|███▌      | 18/50 [00:13<00:14,  2.15it/s]"
     ]
    },
    {
     "name": "stdout",
     "output_type": "stream",
     "text": [
      "Downloaded: pexels_videos\\video_17.mp4\n",
      "Downloaded: pexels_videos\\video_18.mp4\n"
     ]
    },
    {
     "name": "stderr",
     "output_type": "stream",
     "text": [
      "Downloading Videos:  38%|███▊      | 19/50 [00:13<00:11,  2.64it/s]"
     ]
    },
    {
     "name": "stdout",
     "output_type": "stream",
     "text": [
      "Downloaded: pexels_videos\\video_19.mp4\n"
     ]
    },
    {
     "name": "stderr",
     "output_type": "stream",
     "text": [
      "Downloading Videos:  42%|████▏     | 21/50 [00:13<00:08,  3.37it/s]"
     ]
    },
    {
     "name": "stdout",
     "output_type": "stream",
     "text": [
      "Downloaded: pexels_videos\\video_20.mp4\n",
      "Downloaded: pexels_videos\\video_21.mp4\n"
     ]
    },
    {
     "name": "stderr",
     "output_type": "stream",
     "text": [
      "Downloading Videos:  44%|████▍     | 22/50 [00:13<00:07,  3.59it/s]"
     ]
    },
    {
     "name": "stdout",
     "output_type": "stream",
     "text": [
      "Downloaded: pexels_videos\\video_22.mp4\n"
     ]
    },
    {
     "name": "stderr",
     "output_type": "stream",
     "text": [
      "Downloading Videos:  46%|████▌     | 23/50 [00:14<00:11,  2.31it/s]"
     ]
    },
    {
     "name": "stdout",
     "output_type": "stream",
     "text": [
      "Downloaded: pexels_videos\\video_23.mp4\n"
     ]
    },
    {
     "name": "stderr",
     "output_type": "stream",
     "text": [
      "Downloading Videos:  48%|████▊     | 24/50 [00:15<00:16,  1.57it/s]"
     ]
    },
    {
     "name": "stdout",
     "output_type": "stream",
     "text": [
      "Downloaded: pexels_videos\\video_24.mp4\n"
     ]
    },
    {
     "name": "stderr",
     "output_type": "stream",
     "text": [
      "Downloading Videos:  50%|█████     | 25/50 [00:16<00:12,  1.95it/s]"
     ]
    },
    {
     "name": "stdout",
     "output_type": "stream",
     "text": [
      "Downloaded: pexels_videos\\video_25.mp4\n"
     ]
    },
    {
     "name": "stderr",
     "output_type": "stream",
     "text": [
      "Downloading Videos:  52%|█████▏    | 26/50 [00:16<00:15,  1.54it/s]"
     ]
    },
    {
     "name": "stdout",
     "output_type": "stream",
     "text": [
      "Downloaded: pexels_videos\\video_26.mp4\n"
     ]
    },
    {
     "name": "stderr",
     "output_type": "stream",
     "text": [
      "Downloading Videos:  54%|█████▍    | 27/50 [00:17<00:14,  1.59it/s]"
     ]
    },
    {
     "name": "stdout",
     "output_type": "stream",
     "text": [
      "Downloaded: pexels_videos\\video_27.mp4\n"
     ]
    },
    {
     "name": "stderr",
     "output_type": "stream",
     "text": [
      "Downloading Videos:  56%|█████▌    | 28/50 [00:18<00:13,  1.57it/s]"
     ]
    },
    {
     "name": "stdout",
     "output_type": "stream",
     "text": [
      "Downloaded: pexels_videos\\video_28.mp4\n"
     ]
    },
    {
     "name": "stderr",
     "output_type": "stream",
     "text": [
      "Downloading Videos:  58%|█████▊    | 29/50 [00:18<00:11,  1.78it/s]"
     ]
    },
    {
     "name": "stdout",
     "output_type": "stream",
     "text": [
      "Downloaded: pexels_videos\\video_29.mp4\n"
     ]
    },
    {
     "name": "stderr",
     "output_type": "stream",
     "text": [
      "Downloading Videos:  60%|██████    | 30/50 [00:22<00:30,  1.53s/it]"
     ]
    },
    {
     "name": "stdout",
     "output_type": "stream",
     "text": [
      "Downloaded: pexels_videos\\video_30.mp4\n"
     ]
    },
    {
     "name": "stderr",
     "output_type": "stream",
     "text": [
      "Downloading Videos:  64%|██████▍   | 32/50 [00:23<00:18,  1.03s/it]"
     ]
    },
    {
     "name": "stdout",
     "output_type": "stream",
     "text": [
      "Downloaded: pexels_videos\\video_31.mp4\n",
      "Downloaded: pexels_videos\\video_32.mp4\n"
     ]
    },
    {
     "name": "stderr",
     "output_type": "stream",
     "text": [
      "Downloading Videos:  66%|██████▌   | 33/50 [00:23<00:13,  1.29it/s]"
     ]
    },
    {
     "name": "stdout",
     "output_type": "stream",
     "text": [
      "Downloaded: pexels_videos\\video_33.mp4\n"
     ]
    },
    {
     "name": "stderr",
     "output_type": "stream",
     "text": [
      "Downloading Videos:  68%|██████▊   | 34/50 [00:24<00:13,  1.18it/s]"
     ]
    },
    {
     "name": "stdout",
     "output_type": "stream",
     "text": [
      "Downloaded: pexels_videos\\video_34.mp4\n"
     ]
    },
    {
     "name": "stderr",
     "output_type": "stream",
     "text": [
      "Downloading Videos:  70%|███████   | 35/50 [00:25<00:10,  1.39it/s]"
     ]
    },
    {
     "name": "stdout",
     "output_type": "stream",
     "text": [
      "Downloaded: pexels_videos\\video_35.mp4\n",
      "Downloaded: pexels_videos\\video_36.mp4\n"
     ]
    },
    {
     "name": "stderr",
     "output_type": "stream",
     "text": [
      "Downloading Videos:  74%|███████▍  | 37/50 [00:26<00:09,  1.36it/s]"
     ]
    },
    {
     "name": "stdout",
     "output_type": "stream",
     "text": [
      "Downloaded: pexels_videos\\video_37.mp4\n"
     ]
    },
    {
     "name": "stderr",
     "output_type": "stream",
     "text": [
      "Downloading Videos:  76%|███████▌  | 38/50 [00:27<00:07,  1.57it/s]"
     ]
    },
    {
     "name": "stdout",
     "output_type": "stream",
     "text": [
      "Downloaded: pexels_videos\\video_38.mp4\n"
     ]
    },
    {
     "name": "stderr",
     "output_type": "stream",
     "text": [
      "Downloading Videos:  78%|███████▊  | 39/50 [00:27<00:07,  1.53it/s]"
     ]
    },
    {
     "name": "stdout",
     "output_type": "stream",
     "text": [
      "Downloaded: pexels_videos\\video_39.mp4\n"
     ]
    },
    {
     "name": "stderr",
     "output_type": "stream",
     "text": [
      "Downloading Videos:  82%|████████▏ | 41/50 [00:28<00:04,  2.03it/s]"
     ]
    },
    {
     "name": "stdout",
     "output_type": "stream",
     "text": [
      "Downloaded: pexels_videos\\video_40.mp4\n",
      "Downloaded: pexels_videos\\video_41.mp4\n"
     ]
    },
    {
     "name": "stderr",
     "output_type": "stream",
     "text": [
      "Downloading Videos:  84%|████████▍ | 42/50 [00:29<00:04,  1.70it/s]"
     ]
    },
    {
     "name": "stdout",
     "output_type": "stream",
     "text": [
      "Downloaded: pexels_videos\\video_42.mp4\n"
     ]
    },
    {
     "name": "stderr",
     "output_type": "stream",
     "text": [
      "Downloading Videos:  86%|████████▌ | 43/50 [00:30<00:04,  1.70it/s]"
     ]
    },
    {
     "name": "stdout",
     "output_type": "stream",
     "text": [
      "Downloaded: pexels_videos\\video_43.mp4\n"
     ]
    },
    {
     "name": "stderr",
     "output_type": "stream",
     "text": [
      "Downloading Videos:  88%|████████▊ | 44/50 [00:33<00:08,  1.43s/it]"
     ]
    },
    {
     "name": "stdout",
     "output_type": "stream",
     "text": [
      "Downloaded: pexels_videos\\video_44.mp4\n"
     ]
    },
    {
     "name": "stderr",
     "output_type": "stream",
     "text": [
      "Downloading Videos:  90%|█████████ | 45/50 [00:33<00:05,  1.15s/it]"
     ]
    },
    {
     "name": "stdout",
     "output_type": "stream",
     "text": [
      "Downloaded: pexels_videos\\video_45.mp4\n",
      "Downloaded: pexels_videos\\video_46.mp4\n"
     ]
    },
    {
     "name": "stderr",
     "output_type": "stream",
     "text": [
      "Downloading Videos:  94%|█████████▍| 47/50 [00:34<00:02,  1.39it/s]"
     ]
    },
    {
     "name": "stdout",
     "output_type": "stream",
     "text": [
      "Downloaded: pexels_videos\\video_47.mp4\n"
     ]
    },
    {
     "name": "stderr",
     "output_type": "stream",
     "text": [
      "Downloading Videos:  98%|█████████▊| 49/50 [00:34<00:00,  2.11it/s]"
     ]
    },
    {
     "name": "stdout",
     "output_type": "stream",
     "text": [
      "Downloaded: pexels_videos\\video_48.mp4\n",
      "Downloaded: pexels_videos\\video_49.mp4\n"
     ]
    },
    {
     "name": "stderr",
     "output_type": "stream",
     "text": [
      "Downloading Videos: 100%|██████████| 50/50 [00:34<00:00,  1.44it/s]"
     ]
    },
    {
     "name": "stdout",
     "output_type": "stream",
     "text": [
      "Downloaded: pexels_videos\\video_50.mp4\n"
     ]
    },
    {
     "name": "stderr",
     "output_type": "stream",
     "text": [
      "\n"
     ]
    }
   ],
   "source": [
    "import requests\n",
    "import os\n",
    "from tqdm import tqdm\n",
    "\n",
    "# Pexels API setup\n",
    "API_KEY = \"iK8PTnxMfV9LQHbNdLCtVtIkzZEPbjrZrwKXECL47eXhJsg0dJmWMKji\"\n",
    "API_URL = \"https://api.pexels.com/videos/search\"\n",
    "HEADERS = {\"Authorization\": API_KEY}\n",
    "\n",
    "def get_video_links(query, max_videos=50):\n",
    "    \"\"\"Fetch video links from the Pexels API.\"\"\"\n",
    "    params = {\"query\": query, \"per_page\": max_videos}\n",
    "    response = requests.get(API_URL, headers=HEADERS, params=params)\n",
    "    response.raise_for_status()  # Raise exception for bad responses\n",
    "\n",
    "    data = response.json()\n",
    "    video_links = [video[\"video_files\"][0][\"link\"] for video in data.get(\"videos\", [])]\n",
    "    return video_links\n",
    "\n",
    "def download_videos(video_links, save_folder=\"pexels_videos\"):\n",
    "    \"\"\"Download videos from a list of links.\"\"\"\n",
    "    os.makedirs(save_folder, exist_ok=True)\n",
    "\n",
    "    for i, link in enumerate(tqdm(video_links, desc=\"Downloading Videos\")):\n",
    "        video_path = os.path.join(save_folder, f\"video_{i+1}.mp4\")\n",
    "\n",
    "        with requests.get(link, stream=True) as response:\n",
    "            response.raise_for_status()\n",
    "            with open(video_path, \"wb\") as video_file:\n",
    "                for chunk in response.iter_content(chunk_size=8192):\n",
    "                    video_file.write(chunk)\n",
    "\n",
    "        print(f\"Downloaded: {video_path}\")\n",
    "\n",
    "\n",
    "# Define search query and maximum number of videos\n",
    "search_query = \"waves\"\n",
    "max_videos = 50\n",
    "\n",
    "print(\"Fetching video links from Pexels...\")\n",
    "video_links = get_video_links(search_query, max_videos)\n",
    "\n",
    "if video_links:\n",
    "    print(f\"Found {len(video_links)} videos. Starting download...\")\n",
    "    download_videos(video_links)\n",
    "else:\n",
    "    print(\"No videos found.\")\n"
   ]
  }
 ],
 "metadata": {
  "kernelspec": {
   "display_name": "goofi-pipe",
   "language": "python",
   "name": "python3"
  },
  "language_info": {
   "codemirror_mode": {
    "name": "ipython",
    "version": 3
   },
   "file_extension": ".py",
   "mimetype": "text/x-python",
   "name": "python",
   "nbconvert_exporter": "python",
   "pygments_lexer": "ipython3",
   "version": "3.10.15"
  }
 },
 "nbformat": 4,
 "nbformat_minor": 2
}
